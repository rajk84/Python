{
 "cells": [
   "cell_type": "markdown",
   "metadata": {},
   "source": [
    "![Python%20Titanic%20Workflow.png](https://raw.githubusercontent.com/rajk84/Python/master/Titanic/Python%20Titanic%20Workflow.png)"
   ]
  },
  {
   "cell_type": "markdown",
   "metadata": {},
   "source": [
    "# Get Data and Summarize"
   ]
  },
  {
   "cell_type": "code",
   "execution_count": 106,
   "metadata": {},
   "outputs": [
    {
     "name": "stdout",
     "output_type": "stream",
     "text": [
      "<class 'pandas.core.frame.DataFrame'>\n",
      "RangeIndex: 891 entries, 0 to 890\n",
      "Data columns (total 12 columns):\n",
      "PassengerId    891 non-null int64\n",
      "Survived       891 non-null int64\n",
      "Pclass         891 non-null int64\n",
      "Name           891 non-null object\n",
      "Sex            891 non-null object\n",
      "Age            714 non-null float64\n",
      "SibSp          891 non-null int64\n",
      "Parch          891 non-null int64\n",
      "Ticket         891 non-null object\n",
      "Fare           891 non-null float64\n",
      "Cabin          204 non-null object\n",
      "Embarked       889 non-null object\n",
      "dtypes: float64(2), int64(5), object(5)\n",
      "memory usage: 83.6+ KB\n"
     ]
    }
   ],
   "source": [
    "# linear algebra\n",
    "import numpy as np \n",
    "\n",
    "# data processing\n",
    "import pandas as pd \n",
    "import re\n",
    "\n",
    "# data visualization\n",
    "import seaborn as sns\n",
    "%matplotlib inline\n",
    "from matplotlib import pyplot as plt\n",
    "from matplotlib import style\n",
    "\n",
    "# Algorithms\n",
    "from sklearn import linear_model\n",
    "from sklearn.linear_model import LogisticRegression\n",
    "from sklearn.ensemble import RandomForestClassifier\n",
    "from sklearn.linear_model import Perceptron\n",
    "from sklearn.linear_model import SGDClassifier\n",
    "from sklearn.tree import DecisionTreeClassifier\n",
    "from sklearn.neighbors import KNeighborsClassifier\n",
    "from sklearn.svm import SVC, LinearSVC\n",
    "from sklearn.naive_bayes import GaussianNB\n",
    "\n",
    "#Read train and test data\n",
    "test_df = pd.read_csv(r\"C:\\PythonPrograms\\HelloWorld\\Kaggle\\titanic\\test.csv\")\n",
    "train_df = pd.read_csv(r\"C:\\PythonPrograms\\HelloWorld\\Kaggle\\titanic\\train.csv\")\n",
    "\n",
    "#info gives feature data types\n",
    "train_df.info()"
   ]
  },
  {
   "cell_type": "code",
   "execution_count": 107,
   "metadata": {},
   "outputs": [
    {
     "data": {
      "text/html": [
       "<div>\n",
       "<style>\n",
       "    .dataframe thead tr:only-child th {\n",
       "        text-align: right;\n",
       "    }\n",
       "\n",
       "    .dataframe thead th {\n",
       "        text-align: left;\n",
       "    }\n",
       "\n",
       "    .dataframe tbody tr th {\n",
       "        vertical-align: top;\n",
       "    }\n",
       "</style>\n",
       "<table border=\"1\" class=\"dataframe\">\n",
       "  <thead>\n",
       "    <tr style=\"text-align: right;\">\n",
       "      <th></th>\n",
       "      <th>Total</th>\n",
       "      <th>%</th>\n",
       "    </tr>\n",
       "  </thead>\n",
       "  <tbody>\n",
       "    <tr>\n",
       "      <th>Cabin</th>\n",
       "      <td>687</td>\n",
       "      <td>77.1</td>\n",
       "    </tr>\n",
       "    <tr>\n",
       "      <th>Age</th>\n",
       "      <td>177</td>\n",
       "      <td>19.9</td>\n",
       "    </tr>\n",
       "    <tr>\n",
       "      <th>Embarked</th>\n",
       "      <td>2</td>\n",
       "      <td>0.2</td>\n",
       "    </tr>\n",
       "    <tr>\n",
       "      <th>Fare</th>\n",
       "      <td>0</td>\n",
       "      <td>0.0</td>\n",
       "    </tr>\n",
       "    <tr>\n",
       "      <th>Ticket</th>\n",
       "      <td>0</td>\n",
       "      <td>0.0</td>\n",
       "    </tr>\n",
       "  </tbody>\n",
       "</table>\n",
       "</div>"
      ],
      "text/plain": [
       "          Total     %\n",
       "Cabin       687  77.1\n",
       "Age         177  19.9\n",
       "Embarked      2   0.2\n",
       "Fare          0   0.0\n",
       "Ticket        0   0.0"
      ]
     },
     "execution_count": 107,
     "metadata": {},
     "output_type": "execute_result"
    }
   ],
   "source": [
    "#Check missing values in each feature\n",
    "total = train_df.isnull().sum().sort_values(ascending=False)\n",
    "percent_1 = train_df.isnull().sum()/train_df.isnull().count()*100\n",
    "percent_2 = (round(percent_1, 1)).sort_values(ascending=False)\n",
    "missing_data = pd.concat([total, percent_2], axis=1, keys=['Total', '%'])\n",
    "missing_data.head(5)"
   ]
  },
  {
   "cell_type": "code",
   "execution_count": 108,
   "metadata": {},
   "outputs": [
    {
     "data": {
      "text/html": [
       "<div>\n",
       "<style>\n",
       "    .dataframe thead tr:only-child th {\n",
       "        text-align: right;\n",
       "    }\n",
       "\n",
       "    .dataframe thead th {\n",
       "        text-align: left;\n",
       "    }\n",
       "\n",
       "    .dataframe tbody tr th {\n",
       "        vertical-align: top;\n",
       "    }\n",
       "</style>\n",
       "<table border=\"1\" class=\"dataframe\">\n",
       "  <thead>\n",
       "    <tr style=\"text-align: right;\">\n",
       "      <th></th>\n",
       "      <th>PassengerId</th>\n",
       "      <th>Survived</th>\n",
       "      <th>Pclass</th>\n",
       "      <th>Age</th>\n",
       "      <th>SibSp</th>\n",
       "      <th>Parch</th>\n",
       "      <th>Fare</th>\n",
       "    </tr>\n",
       "  </thead>\n",
       "  <tbody>\n",
       "    <tr>\n",
       "      <th>count</th>\n",
       "      <td>891.000000</td>\n",
       "      <td>891.000000</td>\n",
       "      <td>891.000000</td>\n",
       "      <td>714.000000</td>\n",
       "      <td>891.000000</td>\n",
       "      <td>891.000000</td>\n",
       "      <td>891.000000</td>\n",
       "    </tr>\n",
       "    <tr>\n",
       "      <th>mean</th>\n",
       "      <td>446.000000</td>\n",
       "      <td>0.383838</td>\n",
       "      <td>2.308642</td>\n",
       "      <td>29.699118</td>\n",
       "      <td>0.523008</td>\n",
       "      <td>0.381594</td>\n",
       "      <td>32.204208</td>\n",
       "    </tr>\n",
       "    <tr>\n",
       "      <th>std</th>\n",
       "      <td>257.353842</td>\n",
       "      <td>0.486592</td>\n",
       "      <td>0.836071</td>\n",
       "      <td>14.526497</td>\n",
       "      <td>1.102743</td>\n",
       "      <td>0.806057</td>\n",
       "      <td>49.693429</td>\n",
       "    </tr>\n",
       "    <tr>\n",
       "      <th>min</th>\n",
       "      <td>1.000000</td>\n",
       "      <td>0.000000</td>\n",
       "      <td>1.000000</td>\n",
       "      <td>0.420000</td>\n",
       "      <td>0.000000</td>\n",
       "      <td>0.000000</td>\n",
       "      <td>0.000000</td>\n",
       "    </tr>\n",
       "    <tr>\n",
       "      <th>25%</th>\n",
       "      <td>223.500000</td>\n",
       "      <td>0.000000</td>\n",
       "      <td>2.000000</td>\n",
       "      <td>20.125000</td>\n",
       "      <td>0.000000</td>\n",
       "      <td>0.000000</td>\n",
       "      <td>7.910400</td>\n",
       "    </tr>\n",
       "    <tr>\n",
       "      <th>50%</th>\n",
       "      <td>446.000000</td>\n",
       "      <td>0.000000</td>\n",
       "      <td>3.000000</td>\n",
       "      <td>28.000000</td>\n",
       "      <td>0.000000</td>\n",
       "      <td>0.000000</td>\n",
       "      <td>14.454200</td>\n",
       "    </tr>\n",
       "    <tr>\n",
       "      <th>75%</th>\n",
       "      <td>668.500000</td>\n",
       "      <td>1.000000</td>\n",
       "      <td>3.000000</td>\n",
       "      <td>38.000000</td>\n",
       "      <td>1.000000</td>\n",
       "      <td>0.000000</td>\n",
       "      <td>31.000000</td>\n",
       "    </tr>\n",
       "    <tr>\n",
       "      <th>max</th>\n",
       "      <td>891.000000</td>\n",
       "      <td>1.000000</td>\n",
       "      <td>3.000000</td>\n",
       "      <td>80.000000</td>\n",
       "      <td>8.000000</td>\n",
       "      <td>6.000000</td>\n",
       "      <td>512.329200</td>\n",
       "    </tr>\n",
       "  </tbody>\n",
       "</table>\n",
       "</div>"
      ],
      "text/plain": [
       "       PassengerId    Survived      Pclass         Age       SibSp  \\\n",
       "count   891.000000  891.000000  891.000000  714.000000  891.000000   \n",
       "mean    446.000000    0.383838    2.308642   29.699118    0.523008   \n",
       "std     257.353842    0.486592    0.836071   14.526497    1.102743   \n",
       "min       1.000000    0.000000    1.000000    0.420000    0.000000   \n",
       "25%     223.500000    0.000000    2.000000   20.125000    0.000000   \n",
       "50%     446.000000    0.000000    3.000000   28.000000    0.000000   \n",
       "75%     668.500000    1.000000    3.000000   38.000000    1.000000   \n",
       "max     891.000000    1.000000    3.000000   80.000000    8.000000   \n",
       "\n",
       "            Parch        Fare  \n",
       "count  891.000000  891.000000  \n",
       "mean     0.381594   32.204208  \n",
       "std      0.806057   49.693429  \n",
       "min      0.000000    0.000000  \n",
       "25%      0.000000    7.910400  \n",
       "50%      0.000000   14.454200  \n",
       "75%      0.000000   31.000000  \n",
       "max      6.000000  512.329200  "
      ]
     },
     "execution_count": 108,
     "metadata": {},
     "output_type": "execute_result"
    }
   ],
   "source": [
    "#Describe gives an idea of basic statistics of all features\n",
    "train_df.describe()"
   ]
  },
  {
   "cell_type": "markdown",
   "metadata": {},
   "source": [
    "# Visual Insights from Data"
   ]
  },
  {
   "cell_type": "code",
   "execution_count": 109,
   "metadata": {
    "scrolled": true
   },
   "outputs": [
    {
     "data": {
      "text/plain": [
       "<matplotlib.text.Text at 0x11eccb00>"
      ]
     },
     "execution_count": 109,
     "metadata": {},
     "output_type": "execute_result"
    },
    {
     "data": {
      "image/png": "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\n",
      "text/plain": [
       "<matplotlib.figure.Figure at 0x11e24e80>"
      ]
     },
     "metadata": {},
     "output_type": "display_data"
    }
   ],
   "source": [
    "#Check survivor vs non-survivors by age and sex to get an idea\n",
    "fig, axes = plt.subplots(nrows=1,ncols=2,sharey=True,figsize=(18,8))\n",
    "ax1 = sns.distplot(train_df.iloc[np.where((train_df['Sex']=='female')&(train_df['Survived']==1))].Age.dropna(),bins=40,label='Survived',ax=axes[0],kde=True)\n",
    "ax1 = sns.distplot(train_df.iloc[np.where((train_df['Sex']=='female')&(train_df['Survived']==0))].Age.dropna(),bins=40,label='Not-Survived',ax=axes[0],kde=True)\n",
    "ax1.legend()\n",
    "ax1.set_title('Female')\n",
    "ax2 = sns.distplot(train_df.iloc[np.where((train_df['Sex']=='male')&(train_df['Survived']==1))].Age.dropna(),bins=40,label='Survived',ax=axes[1],kde=True)\n",
    "ax2 = sns.distplot(train_df.iloc[np.where((train_df['Sex']=='male')&(train_df['Survived']==0))].Age.dropna(),bins=40,label='Not-Survived',ax=axes[1],kde=True)\n",
    "ax2.legend()\n",
    "ax2.set_title('Male')"
   ]
  },
  {
   "cell_type": "markdown",
   "metadata": {},
   "source": [
    "### *We see being female not necessarily change survival probability by age. However Male between 20 and 30 had less survival probablity as they helped children and older people to move first (**Brave Men**)*"
   ]
  },
  {
   "cell_type": "code",
   "execution_count": 110,
   "metadata": {},
   "outputs": [
    {
     "data": {
      "text/plain": [
       "<matplotlib.axes._subplots.AxesSubplot at 0x11e24278>"
      ]
     },
     "execution_count": 110,
     "metadata": {},
     "output_type": "execute_result"
    },
    {
     "data": {
      "image/png": "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\n",
      "text/plain": [
       "<matplotlib.figure.Figure at 0x11c9e588>"
      ]
     },
     "metadata": {},
     "output_type": "display_data"
    }
   ],
   "source": [
    "#See Survivors by Class and Sex\n",
    "sns.barplot(data=train_df,x='Pclass',y='Survived',hue='Sex')"
   ]
  },
  {
   "cell_type": "markdown",
   "metadata": {},
   "source": [
    "### *We see people travlled in higher class had higher probability of survival, irrespective of sex*"
   ]
  },
  {
   "cell_type": "code",
   "execution_count": 111,
   "metadata": {},
   "outputs": [
    {
     "name": "stdout",
     "output_type": "stream",
     "text": [
      "['S' 'C' 'Q' nan]\n"
     ]
    },
    {
     "data": {
      "text/plain": [
       "<seaborn.axisgrid.FacetGrid at 0x12430518>"
      ]
     },
     "execution_count": 111,
     "metadata": {},
     "output_type": "execute_result"
    },
    {
     "data": {
      "image/png": "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\n",
      "text/plain": [
       "<matplotlib.figure.Figure at 0x124106d8>"
      ]
     },
     "metadata": {},
     "output_type": "display_data"
    }
   ],
   "source": [
    "print(train_df['Embarked'].unique())\n",
    "\n",
    "#Check Survivor by Embarked\n",
    "pal = dict(male=\"green\", female=\"blue\")\n",
    "g = sns.FacetGrid(train_df,row='Embarked',size=5,aspect=2) #hue='Sex',palette=pal,\n",
    "g.map(sns.pointplot,'Pclass','Survived','Sex').add_legend()"
   ]
  },
  {
   "cell_type": "markdown",
   "metadata": {},
   "source": [
    "### *There is something about the 'C' port where females had less probablity of survival irrespective of class travelled. This is not the case with other ports embarked, where females had high probablity of survival irrespective of class travelled.*"
   ]
  },
  {
   "cell_type": "markdown",
   "metadata": {},
   "source": [
    "# Feature Engineering"
   ]
  },
  {
   "cell_type": "code",
   "execution_count": 112,
   "metadata": {},
   "outputs": [],
   "source": [
    "#Create new feature 'Relatives' that is sum of siblings and parents\n",
    "dataset=[train_df,test_df]\n",
    "for df in dataset:\n",
    "    df['relatives'] = df['SibSp']+df['Parch']"
   ]
  },
  {
   "cell_type": "code",
   "execution_count": 113,
   "metadata": {},
   "outputs": [
    {
     "data": {
      "text/plain": [
       "<seaborn.axisgrid.FacetGrid at 0x1246e7f0>"
      ]
     },
     "execution_count": 113,
     "metadata": {},
     "output_type": "execute_result"
    },
    {
     "data": {
      "image/png": "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\n",
      "text/plain": [
       "<matplotlib.figure.Figure at 0x126f7cf8>"
      ]
     },
     "metadata": {},
     "output_type": "display_data"
    }
   ],
   "source": [
    "#See survivors by relatives. it shows if you had 3 relatives travelling, you had higher probablity to survive\n",
    "sns.factorplot('relatives','Survived',data=train_df,size=3,aspect=3)"
   ]
  },
  {
   "cell_type": "markdown",
   "metadata": {},
   "source": [
    "### *We see people travlled with 1 to 3 relatives had higher probablity of survival, however more than 4 relatives had less probablity of survival*"
   ]
  },
  {
   "cell_type": "code",
   "execution_count": 114,
   "metadata": {
    "scrolled": true
   },
   "outputs": [
    {
     "name": "stderr",
     "output_type": "stream",
     "text": [
      "c:\\users\\a6fkqzz\\appdata\\local\\programs\\python\\python36\\lib\\site-packages\\ipykernel_launcher.py:4: SettingWithCopyWarning: \n",
      "A value is trying to be set on a copy of a slice from a DataFrame\n",
      "\n",
      "See the caveats in the documentation: http://pandas.pydata.org/pandas-docs/stable/indexing.html#indexing-view-versus-copy\n",
      "  after removing the cwd from sys.path.\n"
     ]
    }
   ],
   "source": [
    "#create deck feature from Cabin with numeric values for linear model to work\n",
    "deck = {'U':0, 'C':3, 'E':5, 'G':7, 'D':4, 'A':1, 'B':2, 'F':6, 'T':8}\n",
    "for df in dataset:\n",
    "    df['Cabin'][df['Cabin'].isnull()]='U0'\n",
    "    df['Deck'] = df['Cabin'].map(lambda x: re.compile('([A-Za-z])+').search(x).group())\n",
    "    df['Deck'] = df['Deck'].map(deck).astype(int)"
   ]
  },
  {
   "cell_type": "markdown",
   "metadata": {},
   "source": [
    "### *Drop the Cabin as they are not needed anymore.*"
   ]
  },
  {
   "cell_type": "code",
   "execution_count": 115,
   "metadata": {},
   "outputs": [],
   "source": [
    "#Drop Cabin as we may not need it. will use Deck going forward\n",
    "train_df = train_df.drop(['Cabin'],axis=1)\n",
    "test_df = test_df.drop(['Cabin'],axis=1)"
   ]
  },
  {
   "cell_type": "markdown",
   "metadata": {},
   "source": [
    "### *Passenger ID, Name and Ticket are not relevant and will drop them. We will also drop SibSP & Parch as they are represented in new feature 'Relatives' that we added.*"
   ]
  },
  {
   "cell_type": "code",
   "execution_count": 116,
   "metadata": {},
   "outputs": [],
   "source": [
    "#NO need for passenger ID, name, sibling, parents (replaced by 'Relatives'), ticket. So dropped them.\n",
    "dataset = [train_df,test_df]\n",
    "for df in dataset:\n",
    "    df.drop(['PassengerId','Name','SibSp','Parch','Ticket'],axis=1,inplace=True)"
   ]
  },
  {
   "cell_type": "markdown",
   "metadata": {},
   "source": [
    "### *The columns Sex and Embarked need to be changed to numeric value for Linear models. Before we do that there are missing values in Age, Fare that should be taken care.* \n",
    "\n",
    "-  **Age:** *missing values replaced by Mean*<br>\n",
    "-  **Fare:** *missing values replaced by zeroes*"
   ]
  },
  {
   "cell_type": "code",
   "execution_count": 117,
   "metadata": {},
   "outputs": [],
   "source": [
    "#Fill in missing Age with mean values.\n",
    "dataset = [train_df,test_df]\n",
    "for df in dataset:\n",
    "    df['Age'].fillna(df['Age'].mean(),inplace=True)\n",
    "\n",
    "\n",
    "#fill missing fare with zeroes\n",
    "dataset = [train_df,test_df]\n",
    "for df in dataset:\n",
    "    df['Fare'].fillna(0,inplace=True)"
   ]
  },
  {
   "cell_type": "markdown",
   "metadata": {},
   "source": [
    "### *Let us check if Embarked feature has any missing values by looking at unique values. If there are empty values, will substitute Mode value*"
   ]
  },
  {
   "cell_type": "code",
   "execution_count": 118,
   "metadata": {},
   "outputs": [
    {
     "data": {
      "text/plain": [
       "array(['S', 'C', 'Q', nan], dtype=object)"
      ]
     },
     "execution_count": 118,
     "metadata": {},
     "output_type": "execute_result"
    }
   ],
   "source": [
    "#check any missing values in Embarked\n",
    "train_df['Embarked'].unique()"
   ]
  },
  {
   "cell_type": "markdown",
   "metadata": {},
   "source": [
    "### *We see null values (nan). Check its mode and fill null values with Mode value.*"
   ]
  },
  {
   "cell_type": "code",
   "execution_count": 119,
   "metadata": {},
   "outputs": [
    {
     "data": {
      "text/plain": [
       "count     889\n",
       "unique      3\n",
       "top         S\n",
       "freq      644\n",
       "Name: Embarked, dtype: object"
      ]
     },
     "execution_count": 119,
     "metadata": {},
     "output_type": "execute_result"
    }
   ],
   "source": [
    "#See mode of Embarked feature\n",
    "train_df['Embarked'].describe()"
   ]
  },
  {
   "cell_type": "code",
   "execution_count": 120,
   "metadata": {},
   "outputs": [],
   "source": [
    "#replace missing Embarked values with mode\n",
    "train_df['Embarked'].fillna(train_df['Embarked'].mode()[0],inplace=True)"
   ]
  },
  {
   "cell_type": "code",
   "execution_count": 121,
   "metadata": {},
   "outputs": [
    {
     "data": {
      "text/plain": [
       "Embarked\n",
       "C    168\n",
       "Q     77\n",
       "S    646\n",
       "Name: Survived, dtype: int64"
      ]
     },
     "execution_count": 121,
     "metadata": {},
     "output_type": "execute_result"
    }
   ],
   "source": [
    "train_df.groupby(['Embarked'])['Survived'].count()"
   ]
  },
  {
   "cell_type": "markdown",
   "metadata": {},
   "source": [
    "### *Now let us convert Categories into numeric values for Linear modesl. Sex and Embarked are Categories.*"
   ]
  },
  {
   "cell_type": "code",
   "execution_count": 122,
   "metadata": {},
   "outputs": [
    {
     "name": "stdout",
     "output_type": "stream",
     "text": [
      "[1 2]\n",
      "[1 2]\n"
     ]
    }
   ],
   "source": [
    "#Convert sex category into numeric value (for linear models)\n",
    "sex_map = {'male':1, 'female':2}\n",
    "for df in dataset:\n",
    "    df['Sex']=df['Sex'].map(sex_map)\n",
    "    print(df.Sex.unique())"
   ]
  },
  {
   "cell_type": "code",
   "execution_count": 123,
   "metadata": {},
   "outputs": [
    {
     "name": "stdout",
     "output_type": "stream",
     "text": [
      "['S' 'C' 'Q']\n",
      "['Q' 'S' 'C']\n"
     ]
    }
   ],
   "source": [
    "#Get unique Embared feature\n",
    "for df in dataset:\n",
    "    print(df.Embarked.unique())\n",
    "\n",
    "#Convert embarked feature to numeric for linear model\n",
    "emb_map={'S':1, 'C':2, 'Q':3}\n",
    "for df in dataset:\n",
    "    df['Embarked']=df['Embarked'].map(emb_map)"
   ]
  },
  {
   "cell_type": "markdown",
   "metadata": {},
   "source": [
    "# Model Buidling\n",
    "\n",
    "*Build X_train, Y_train and X_test*"
   ]
  },
  {
   "cell_type": "code",
   "execution_count": 124,
   "metadata": {},
   "outputs": [],
   "source": [
    "X_train = train_df.drop(\"Survived\", axis=1).copy()\n",
    "Y_train = train_df[\"Survived\"].copy()\n",
    "X_test  = test_df.copy()"
   ]
  },
  {
   "cell_type": "markdown",
   "metadata": {},
   "source": [
    "### *Now lets scale the data to get them within a range, so models dont get swayed away by a large number in one feature.*"
   ]
  },
  {
   "cell_type": "code",
   "execution_count": 125,
   "metadata": {},
   "outputs": [],
   "source": [
    "from sklearn.preprocessing import StandardScaler\n",
    "sc_x = StandardScaler()\n",
    "X_train = sc_x.fit_transform(X_train)\n",
    "X_test = sc_x.transform(X_test)"
   ]
  },
  {
   "cell_type": "markdown",
   "metadata": {},
   "source": [
    "### *Now Let us build the models. This is the fun part :). Lets start with stochastic gradient descent (SGD) learning*"
   ]
  },
  {
   "cell_type": "code",
   "execution_count": 126,
   "metadata": {
    "scrolled": true
   },
   "outputs": [],
   "source": [
    "#Build Linear Model\n",
    "sgb = linear_model.SGDClassifier(max_iter=5)\n",
    "sgb.fit(X_train,Y_train)\n",
    "\n",
    "#Predict survivors from Test set\n",
    "Y_pred = sgb.predict(X_test)"
   ]
  },
  {
   "cell_type": "code",
   "execution_count": 127,
   "metadata": {},
   "outputs": [
    {
     "data": {
      "text/plain": [
       "0.78900112233445563"
      ]
     },
     "execution_count": 127,
     "metadata": {},
     "output_type": "execute_result"
    }
   ],
   "source": [
    "#Score linear model\n",
    "sgb.score(X_train,Y_train)"
   ]
  },
  {
   "cell_type": "code",
   "execution_count": 128,
   "metadata": {},
   "outputs": [
    {
     "name": "stdout",
     "output_type": "stream",
     "text": [
      "           Coef_value\n",
      "Pclass      -0.677237\n",
      "Sex         10.161553\n",
      "Age         -1.982912\n",
      "Fare         0.665153\n",
      "Embarked    -3.928961\n",
      "relatives   -3.302611\n",
      "Deck         3.717002\n"
     ]
    }
   ],
   "source": [
    "#Get coefficient values to see which has more weightage on classification\n",
    "coef = pd.DataFrame(data=sgb.coef_.transpose(),columns=['Coef_value'],index=test_df.columns.values)\n",
    "print(coef)"
   ]
  },
  {
   "cell_type": "code",
   "execution_count": 129,
   "metadata": {},
   "outputs": [
    {
     "data": {
      "text/plain": [
       "<matplotlib.axes._subplots.AxesSubplot at 0x1284fb38>"
      ]
     },
     "execution_count": 129,
     "metadata": {},
     "output_type": "execute_result"
    },
    {
     "data": {
      "image/png": "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\n",
      "text/plain": [
       "<matplotlib.figure.Figure at 0x11d7a5c0>"
      ]
     },
     "metadata": {},
     "output_type": "display_data"
    }
   ],
   "source": [
    "#Visualize coefficent values of linear model\n",
    "order=abs(coef.Coef_value).sort_values(ascending=False).index\n",
    "sns.barplot(x=coef.index,y=abs(coef['Coef_value']),order=order)"
   ]
  },
  {
   "cell_type": "markdown",
   "metadata": {},
   "source": [
    "### *The weightage of features vary every time depending on the fit achieved in that specific run*"
   ]
  },
  {
   "cell_type": "code",
   "execution_count": 130,
   "metadata": {},
   "outputs": [],
   "source": [
    "#Build other models as a dictionary\n",
    "models = {'log_reg':LogisticRegression(),\n",
    "          'rand_cls':RandomForestClassifier(),\n",
    "         'decision_treee':DecisionTreeClassifier(),\n",
    "          'perceptron':Perceptron(max_iter=10),\n",
    "         'knn':KNeighborsClassifier(),\n",
    "          'linearSVC':LinearSVC(),\n",
    "          'gaussian':GaussianNB(),\n",
    "          'SGD_cls':SGDClassifier(max_iter=5)}\n",
    "\n",
    "#create empty dict to get scores for all models\n",
    "scores = dict()\n",
    "\n",
    "def get_model_scores(model):\n",
    "    model.fit(X_train,Y_train)\n",
    "    return model.score(X_train,Y_train)\n",
    "\n",
    "for key,model in models.items():\n",
    "    scores[key] = get_model_scores(model)"
   ]
  },
  {
   "cell_type": "code",
   "execution_count": 131,
   "metadata": {},
   "outputs": [
    {
     "data": {
      "text/plain": [
       "<matplotlib.axes._subplots.AxesSubplot at 0x12f3d898>"
      ]
     },
     "execution_count": 131,
     "metadata": {},
     "output_type": "execute_result"
    },
    {
     "data": {
      "image/png": "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\n",
      "text/plain": [
       "<matplotlib.figure.Figure at 0x12ee96a0>"
      ]
     },
     "metadata": {},
     "output_type": "display_data"
    }
   ],
   "source": [
    "#Create a dataframe with scores\n",
    "scores_df = pd.DataFrame(data=list(scores.values()),columns=['Accuracy'],index=list(scores.keys()))\n",
    "\n",
    "#get order by Accuracy value\n",
    "order=scores_df.Accuracy.sort_values(ascending=False).index\n",
    "\n",
    "#plot to see Accuracy of models by highest to lowest\n",
    "sns.barplot(data=scores_df,x='Accuracy',y=scores_df.index,order=order)"
   ]
  },
  {
   "cell_type": "markdown",
   "metadata": {},
   "source": [
    "## *Decision Tree and Random Forest Classifier model have a higher score, meaning their fit was close to the data than other models. This not necessarily mean that these models will have a better prediction. Overfitting will give a high score to the model and will suffer poor prediction compared to actuals.*"
   ]
  },
  {
   "cell_type": "code",
   "execution_count": null,
   "metadata": {},
   "outputs": [],
   "source": []
  }
 ],
 "metadata": {
  "kernelspec": {
   "display_name": "Python 3",
   "language": "python",
   "name": "python3"
  },
  "language_info": {
   "codemirror_mode": {
    "name": "ipython",
    "version": 3
   },
   "file_extension": ".py",
   "mimetype": "text/x-python",
   "name": "python",
   "nbconvert_exporter": "python",
   "pygments_lexer": "ipython3",
   "version": "3.6.1"
  }
 },
 "nbformat": 4,
 "nbformat_minor": 2
}
