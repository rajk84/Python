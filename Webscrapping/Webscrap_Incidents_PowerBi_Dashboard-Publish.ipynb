{
 "cells": [
  {
   "cell_type": "markdown",
   "metadata": {},
   "source": [
    "![](https://raw.githubusercontent.com/rajk84/Python/master/Webscrapping/Incident_WebScrapping_PowerBi.png)"
   ]
  },
  {
   "cell_type": "code",
   "execution_count": 56,
   "metadata": {},
   "outputs": [],
   "source": [
    "import time\n",
    "from selenium import webdriver\n",
    "from selenium.webdriver.chrome.options import Options\n",
    "from bs4 import BeautifulSoup as bs\n",
    "import pandas as pd\n",
    "import numpy as np\n",
    "\n",
    "#below 2 lines to run browser in backend\n",
    "chrome_options = Options()\n",
    "chrome_options.add_argument(\"--headless\")\n",
    "\n",
    "#setup webdriver for chrome\n",
    "driver = webdriver.Chrome(executable_path=r'<### location of chromedriver.exe file ###>',\n",
    "                          chrome_options=chrome_options)  # Optional argument, if not specified will search path.\n",
    "\n",
    "#Hit the incident page\n",
    "driver.get('<### webpage to scrap incidents ###>');\n",
    "\n",
    "#search for \"input text box\" on the page and type in value\n",
    "#repeat as many fields as needed by specifying right element by its name\n",
    "search_box = driver.find_element_by_name('<### element name on webpage ###>')\n",
    "search_box.send_keys('<### input value ###>')\n",
    "\n",
    "#find submit button and click that\n",
    "submit = driver.find_element_by_name('<### element name on webpage ###>')\n",
    "submit.click()\n",
    "\n",
    "#Get page source and save it\n",
    "page = bs(driver.page_source,\"html5lib\")"
   ]
  },
  {
   "cell_type": "code",
   "execution_count": 58,
   "metadata": {
    "scrolled": true
   },
   "outputs": [],
   "source": [
    "################################################################################\n",
    "### Remove tkinter message box when scheduling the script to run on a server ###\n",
    "################################################################################\n",
    "import sys\n",
    "import tkinter\n",
    "from tkinter import messagebox\n",
    "\n",
    "#Get tkinter TK and we can use it to destroy the window\n",
    "root = tkinter.Tk()\n",
    "################################################################################\n",
    "\n",
    "#Function to get table from page source\n",
    "def get_table(table):\n",
    "    pd_html = pd.read_html(str(table),header=0) #first record is header that becomes columns\n",
    "    pd_html[0] # get the first df that comes out of list of df\n",
    "    return pd_html[0].loc[:, ~pd_html[0].columns.str.contains('^Unnamed')][:-2] #drop columns that are unnamed and drop last 2 rows\n",
    "\n",
    "#Function to check if table exist on the page before calling get_table\n",
    "def check_if_table_exists():    \n",
    "    try:\n",
    "        table_check = driver.find_element_by_id('<### element id on webpage ###>')\n",
    "    except:    \n",
    "        messagebox.showerror('Error','NO table found on the page')\n",
    "        root.destroy()\n",
    "        sys.exit('table not found on the page')\n",
    "\n",
    "#check if table exists and get the exact table we are looking for from page source to pass it to get_table\n",
    "check_if_table_exists()\n",
    "table = page.find('table', id='<### element id on webpage ###>')\n",
    "pd_table = get_table(table)\n",
    "\n",
    "No_Exception = True\n",
    "\n",
    "#check if next page button is available on page. if not available then mark exception\n",
    "try:\n",
    "    next_page = driver.find_element_by_name('<### element name on webpage ###>')\n",
    "except NoSuchElementException:\n",
    "    No_Exception = False\n",
    "\n",
    "#Keep checking if next page button is enabled and grab the table from all subsequent pages\n",
    "while next_page.is_enabled() and No_Exception:\n",
    "    next_page.click()\n",
    "    page = bs(driver.page_source,\"html5lib\")\n",
    "    check_if_table_exists()\n",
    "    table = page.find('table', id='<### element id on webpage ###>')\n",
    "    pd_table = pd_table.append(get_table(table),ignore_index=True)\n",
    "    try:\n",
    "        next_page = driver.find_element_by_name('<### element name on webpage ###>')\n",
    "    except:\n",
    "        break\n",
    "\n",
    "################################################################################\n",
    "### Remove tkinter message box when scheduling the script to run on a server ###\n",
    "################################################################################\n",
    "#get rows and columns accumulated from site and display a message box for notification, then kill tkinter root and driver\n",
    "(rows,cols) = pd_table.shape\n",
    "messagebox.showinfo('info','Captured {} rows and {} columns'.format(rows,cols))\n",
    "root.destroy()\n",
    "driver.quit()\n",
    "################################################################################"
   ]
  },
  {
   "cell_type": "code",
   "execution_count": 59,
   "metadata": {},
   "outputs": [],
   "source": [
    "#Extract model and job from Title. ?P<name> is used to name group which comes as column names. expand=True ensure output is df.\n",
    "#we are looking for specific format of text in title P999_XXX_YY_ZZ_100\n",
    "model_job = pd_table['Title'].str.extract('[. #](?P<Model>[Pp]\\d+)_[A-Z0-9]+_[A-Z0-9]+_(?P<Job>[A-Z0-9]+)_*[A-Z0-9]*',expand=True)\n",
    "#model_job.columns=['Model','Job']\n",
    "\n",
    "#get index of model_job that didn't get right model and job from title\n",
    "index = model_job.index[model_job['Model'].isnull()]\n",
    "\n",
    "#get those records from table that didn't fit the first regex (model_job has null values)\n",
    "pd_model_na = pd_table.loc[index]\n",
    "\n",
    "#get model and job from above records for format P999_XXX_YY_100 in title\n",
    "model_job_1 = pd_model_na['Title'].str.extract('[. #](?P<Model>[Pp]\\d+)_[^ ]*_(?P<Job>[A-Z0-9]+) ',expand=True)\n",
    "\n",
    "#update new found model and job to original list of models and jobs\n",
    "model_job.update(model_job_1)\n",
    "\n",
    "#Fill empty cells with 'N/A' (those that fit two regex models)\n",
    "model_job.fillna('N/A',inplace=True)\n",
    "\n",
    "#concatenate pd_table and model_job into final_incident df.\n",
    "final_incident = pd.concat([pd_table,model_job],axis=1)"
   ]
  },
  {
   "cell_type": "code",
   "execution_count": 60,
   "metadata": {},
   "outputs": [],
   "source": [
    "# Create a Pandas Excel writer using XlsxWriter as the engine.\n",
    "writer = pd.ExcelWriter(r'### Location of Incident_list_output.xlsx ###>', engine='xlsxwriter')\n",
    "\n",
    "# Convert the dataframe to an XlsxWriter Excel object. Index=False drops index in output excel.\n",
    "final_incident.to_excel(writer, sheet_name='Sheet1',index=False)\n",
    "\n",
    "# Close the Pandas Excel writer and output the Excel file.\n",
    "writer.save()"
   ]
  },
  {
   "cell_type": "code",
   "execution_count": 61,
   "metadata": {
    "scrolled": false
   },
   "outputs": [
    {
     "name": "stdout",
     "output_type": "stream",
     "text": [
      "<class 'pandas.core.frame.DataFrame'>\n",
      "RangeIndex: 956 entries, 0 to 955\n",
      "Data columns (total 13 columns):\n",
      "Incident          956 non-null object\n",
      "Priority          956 non-null object\n",
      "Status            956 non-null object\n",
      "Opened            956 non-null datetime64[ns]\n",
      "Contact           1 non-null object\n",
      "Assigned Group    956 non-null object\n",
      "Assigned To       771 non-null object\n",
      "Service           956 non-null object\n",
      "CI                946 non-null object\n",
      "Title             956 non-null object\n",
      "Updated           956 non-null datetime64[ns]\n",
      "Model             956 non-null object\n",
      "Job               956 non-null object\n",
      "dtypes: datetime64[ns](2), object(11)\n",
      "memory usage: 97.2+ KB\n"
     ]
    }
   ],
   "source": [
    "final_incident['Opened']=pd.to_datetime(final_incident['Opened'])\n",
    "final_incident['Updated']=pd.to_datetime(final_incident['Updated'])\n",
    "final_incident.info()"
   ]
  },
  {
   "cell_type": "code",
   "execution_count": 62,
   "metadata": {},
   "outputs": [
    {
     "name": "stderr",
     "output_type": "stream",
     "text": [
      "c:\\users\\a6fkqzz\\appdata\\local\\programs\\python\\python36\\lib\\site-packages\\pandas\\core\\generic.py:1362: UserWarning: The spaces in these column names will not be changed. In pandas versions < 0.14, spaces were converted to underscores.\n",
      "  chunksize=chunksize, dtype=dtype)\n"
     ]
    }
   ],
   "source": [
    "import sqlite3\n",
    "\n",
    "# Connect to Sqlite DB and open cursor\n",
    "conn = sqlite3.connect(r'<### Location of Incident_DB.db ###>')\n",
    "\n",
    "#load final_incident to sql database\n",
    "final_incident.to_sql('Incident_DB',conn,if_exists='append',index=False)\n",
    "\n",
    "# Commit SQL transactions and close connection\n",
    "conn.commit()\n",
    "conn.close()"
   ]
  }
 ],
 "metadata": {
  "kernelspec": {
   "display_name": "Python 3",
   "language": "python",
   "name": "python3"
  },
  "language_info": {
   "codemirror_mode": {
    "name": "ipython",
    "version": 3
   },
   "file_extension": ".py",
   "mimetype": "text/x-python",
   "name": "python",
   "nbconvert_exporter": "python",
   "pygments_lexer": "ipython3",
   "version": "3.6.1"
  }
 },
 "nbformat": 4,
 "nbformat_minor": 2
}
